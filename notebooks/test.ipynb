{
 "cells": [
  {
   "cell_type": "code",
   "execution_count": 1,
   "metadata": {},
   "outputs": [
    {
     "name": "stderr",
     "output_type": "stream",
     "text": [
      "2023-08-14 11:59:49.909725: I tensorflow/core/platform/cpu_feature_guard.cc:182] This TensorFlow binary is optimized to use available CPU instructions in performance-critical operations.\n",
      "To enable the following instructions: AVX2 AVX512F FMA, in other operations, rebuild TensorFlow with the appropriate compiler flags.\n",
      "2023-08-14 11:59:53.067288: W tensorflow/compiler/tf2tensorrt/utils/py_utils.cc:38] TF-TRT Warning: Could not find TensorRT\n"
     ]
    }
   ],
   "source": [
    "from stable_baselines3 import PPO\n",
    "from stable_baselines3.common.vec_env import DummyVecEnv\n",
    "from gymnasium.wrappers.flatten_observation import FlattenObservation\n",
    "from gymnasium.wrappers.normalize import NormalizeObservation, NormalizeReward\n",
    "import sailboat_gym\n",
    "import gymnasium as gym\n",
    "import numpy as np"
   ]
  },
  {
   "cell_type": "code",
   "execution_count": 4,
   "metadata": {},
   "outputs": [
    {
     "name": "stdout",
     "output_type": "stream",
     "text": [
      "env: DOCKER_HOST=unix:///run/user/1512/docker.sock\n"
     ]
    }
   ],
   "source": [
    "%env DOCKER_HOST=unix:///run/user/1512/docker.sock"
   ]
  },
  {
   "cell_type": "code",
   "execution_count": 18,
   "metadata": {},
   "outputs": [],
   "source": [
    "import pickle\n",
    "import os.path as osp\n",
    "\n",
    "class PersistentNormalizeObservation(NormalizeObservation):\n",
    "    def __init__(self, *args, **kwargs):\n",
    "        super().__init__(*args, **kwargs)\n",
    "        print('PersistentNormalizeObservation init')\n",
    "    \n",
    "    def save(self, path: str) -> None:\n",
    "        with open(f'{path}_normalize_obs.pkl', 'wb') as f:\n",
    "            pickle.dump(self.obs_rms, f)\n",
    "\n",
    "    def load(self, path: str) -> None:\n",
    "        with open(f'{path}_normalize_obs.pkl', 'rb') as f:\n",
    "            obs_rms = pickle.load(f)\n",
    "        self.obs_rms = obs_rms"
   ]
  },
  {
   "cell_type": "code",
   "execution_count": 23,
   "metadata": {},
   "outputs": [
    {
     "name": "stderr",
     "output_type": "stream",
     "text": [
      "                                                                            "
     ]
    },
    {
     "name": "stdout",
     "output_type": "stream",
     "text": [
      "PersistentNormalizeObservation init\n",
      "<Wrapper<PersistentNormalizeObservation<FlattenObservation<OrderEnforcing<PassiveEnvChecker<SailboatLSAEnv<SailboatLSAEnv-v0>>>>>>>\n"
     ]
    },
    {
     "name": "stderr",
     "output_type": "stream",
     "text": [
      "\r"
     ]
    }
   ],
   "source": [
    "class Wrapper(gym.Wrapper):\n",
    "    action_space = gym.spaces.Box(\n",
    "        low=np.array([-1], dtype=np.float32),\n",
    "        high=np.array([1], dtype=np.float32),\n",
    "        shape=(1,),\n",
    "        dtype=np.float32\n",
    "    )\n",
    "\n",
    "def create_env():\n",
    "    env = gym.make('SailboatLSAEnv-v0')\n",
    "    env = FlattenObservation(env)\n",
    "    env = PersistentNormalizeObservation(env)\n",
    "    env = Wrapper(env)\n",
    "    print(env)\n",
    "    return env\n",
    "\n",
    "env = DummyVecEnv([create_env])\n",
    "model = PPO('MlpPolicy', env, seed=0)"
   ]
  },
  {
   "cell_type": "code",
   "execution_count": 25,
   "metadata": {},
   "outputs": [],
   "source": [
    "env = model.get_env()._get_target_envs(0)[0]\n",
    "# env.env.obs_rms.mean += 1\n",
    "# env.env.obs_rms.var += 1"
   ]
  },
  {
   "cell_type": "code",
   "execution_count": 28,
   "metadata": {},
   "outputs": [
    {
     "name": "stdout",
     "output_type": "stream",
     "text": [
      "[1. 1. 1. 1. 1. 1. 1. 1. 1. 1. 1. 1. 1. 1. 1. 1. 1. 1.] [2. 2. 2. 2. 2. 2. 2. 2. 2. 2. 2. 2. 2. 2. 2. 2. 2. 2.]\n"
     ]
    }
   ],
   "source": [
    "print(env.env.obs_rms.mean, env.env.obs_rms.var)"
   ]
  },
  {
   "cell_type": "code",
   "execution_count": 27,
   "metadata": {},
   "outputs": [],
   "source": [
    "env.env.load(\"test\")"
   ]
  },
  {
   "cell_type": "code",
   "execution_count": 29,
   "metadata": {},
   "outputs": [],
   "source": [
    "a = model.get_env().get_attr('env', 0)[0].__class__"
   ]
  },
  {
   "cell_type": "code",
   "execution_count": 30,
   "metadata": {},
   "outputs": [
    {
     "data": {
      "text/plain": [
       "__main__.Wrapper"
      ]
     },
     "execution_count": 30,
     "metadata": {},
     "output_type": "execute_result"
    }
   ],
   "source": [
    "a"
   ]
  },
  {
   "cell_type": "code",
   "execution_count": 31,
   "metadata": {},
   "outputs": [
    {
     "name": "stderr",
     "output_type": "stream",
     "text": [
      "                                                                            \r"
     ]
    }
   ],
   "source": [
    "env = gym.make('SailboatLSAEnv-v0')\n",
    "env = a(env)"
   ]
  },
  {
   "cell_type": "code",
   "execution_count": 32,
   "metadata": {},
   "outputs": [
    {
     "data": {
      "text/plain": [
       "<Wrapper<OrderEnforcing<PassiveEnvChecker<SailboatLSAEnv<SailboatLSAEnv-v0>>>>>"
      ]
     },
     "execution_count": 32,
     "metadata": {},
     "output_type": "execute_result"
    }
   ],
   "source": [
    "env"
   ]
  },
  {
   "cell_type": "code",
   "execution_count": 24,
   "metadata": {},
   "outputs": [
    {
     "data": {
      "text/plain": [
       "['__annotations__',\n",
       " '__class__',\n",
       " '__class_getitem__',\n",
       " '__delattr__',\n",
       " '__dict__',\n",
       " '__dir__',\n",
       " '__doc__',\n",
       " '__enter__',\n",
       " '__eq__',\n",
       " '__exit__',\n",
       " '__format__',\n",
       " '__ge__',\n",
       " '__getattr__',\n",
       " '__getattribute__',\n",
       " '__gt__',\n",
       " '__hash__',\n",
       " '__init__',\n",
       " '__init_subclass__',\n",
       " '__le__',\n",
       " '__lt__',\n",
       " '__module__',\n",
       " '__ne__',\n",
       " '__new__',\n",
       " '__orig_bases__',\n",
       " '__parameters__',\n",
       " '__reduce__',\n",
       " '__reduce_ex__',\n",
       " '__repr__',\n",
       " '__setattr__',\n",
       " '__sizeof__',\n",
       " '__slots__',\n",
       " '__str__',\n",
       " '__subclasshook__',\n",
       " '__weakref__',\n",
       " '_action_space',\n",
       " '_cached_spec',\n",
       " '_is_protocol',\n",
       " '_metadata',\n",
       " '_np_random',\n",
       " '_observation_space',\n",
       " '_reward_range',\n",
       " 'action_space',\n",
       " 'class_name',\n",
       " 'close',\n",
       " 'env',\n",
       " 'metadata',\n",
       " 'np_random',\n",
       " 'observation_space',\n",
       " 'render',\n",
       " 'render_mode',\n",
       " 'reset',\n",
       " 'reward_range',\n",
       " 'spec',\n",
       " 'step',\n",
       " 'unwrapped',\n",
       " 'wrapper_spec']"
      ]
     },
     "execution_count": 24,
     "metadata": {},
     "output_type": "execute_result"
    }
   ],
   "source": [
    "dir(model.get_env().get_attr('env', 0)[0])"
   ]
  },
  {
   "cell_type": "code",
   "execution_count": null,
   "metadata": {},
   "outputs": [],
   "source": []
  }
 ],
 "metadata": {
  "kernelspec": {
   "display_name": "sailboat-drl",
   "language": "python",
   "name": "python3"
  },
  "language_info": {
   "codemirror_mode": {
    "name": "ipython",
    "version": 3
   },
   "file_extension": ".py",
   "mimetype": "text/x-python",
   "name": "python",
   "nbconvert_exporter": "python",
   "pygments_lexer": "ipython3",
   "version": "3.10.10"
  },
  "orig_nbformat": 4
 },
 "nbformat": 4,
 "nbformat_minor": 2
}
