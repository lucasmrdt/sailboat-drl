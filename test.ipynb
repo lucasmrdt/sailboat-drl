{
 "cells": [
  {
   "cell_type": "code",
   "execution_count": 7,
   "metadata": {},
   "outputs": [],
   "source": [
    "import re\n",
    "\n",
    "\n",
    "def camel_to_snake(name: str) -> str:\n",
    "    return re.sub(r'(?<!^)(?=[A-Z])', '_', name).lower()\n",
    "\n",
    "\n",
    "class ATest:\n",
    "    @staticmethod\n",
    "    def name() -> str:\n",
    "        return "
   ]
  },
  {
   "cell_type": "code",
   "execution_count": 8,
   "metadata": {},
   "outputs": [
    {
     "name": "stdout",
     "output_type": "stream",
     "text": [
      "set()\n"
     ]
    },
    {
     "data": {
      "text/plain": [
       "{}"
      ]
     },
     "execution_count": 8,
     "metadata": {},
     "output_type": "execute_result"
    }
   ],
   "source": [
    "from typing import Any\n",
    "from collections import defaultdict\n",
    "import numpy as np\n",
    "from gymnasium import ObservationWrapper, spaces, Wrapper\n",
    "\n",
    "class CustomObservationWrapper(ObservationWrapper):\n",
    "    def reset(self, *, seed: int | None = None, options: dict[str, Any] | None = None) -> tuple[Any, dict[str, Any]]:\n",
    "        return super().reset(seed=seed, options=options)\n",
    "\n",
    "class RewardObs(CustomObservationWrapper):\n",
    "    def __init__(self, env, reward, *args, **kwargs):\n",
    "        super().__init__(env, *args, **kwargs)\n",
    "        self.reward = reward\n",
    "\n",
    "    @property\n",
    "    def observation_space(self):\n",
    "        return self.reward.observation_space\n",
    "    \n",
    "    @property\n",
    "    def keys_to_log(self) -> set[str]:\n",
    "        if not self.reward:\n",
    "            return set([])\n",
    "        return self.reward.keys_to_log\n",
    "\n",
    "    def observation(self, obs):\n",
    "        obs = self.reward.observation(obs)\n",
    "        return obs\n",
    "\n",
    "\n",
    "class Basic2DObs(RewardObs, Wrapper):\n",
    "    def __init__(self, *args, **kwargs):\n",
    "        super().__init__(*args, **kwargs)\n",
    "        self.cum_sum = defaultdict(float)\n",
    "\n",
    "    def reset(self, *args, **kwargs):\n",
    "        self.cum_sum.clear()\n",
    "        return super().reset(*args, **kwargs)\n",
    "    \n",
    "    @property\n",
    "    def observation_space(self):\n",
    "        return spaces.Dict({\n",
    "            **super().observation_space,\n",
    "            'v_angle': spaces.Box(low=-np.pi, high=np.pi, shape=(1,)),\n",
    "            'v_norm': spaces.Box(low=0, high=np.inf, shape=(1,)),\n",
    "            'theta_boat': spaces.Box(low=-np.pi, high=np.pi, shape=(1,)),\n",
    "            'dt_theta_boat': spaces.Box(low=-np.inf, high=np.inf, shape=(1,)),\n",
    "            'theta_rudder': spaces.Box(low=-np.pi, high=np.pi, shape=(1,)),\n",
    "            'dt_theta_rudder': spaces.Box(low=-np.inf, high=np.inf, shape=(1,)),\n",
    "            'wind_angle': spaces.Box(low=-np.pi, high=np.pi, shape=(1,)),\n",
    "            'wind_norm': spaces.Box(low=0, high=np.inf, shape=(1,)),\n",
    "        })\n",
    "\n",
    "    @property\n",
    "    def keys_to_log(self):\n",
    "        return super().keys_to_log | set([])\n",
    "\n",
    "    def observation(self, obs):\n",
    "        # v = obs['dt_p_boat'][0:2]\n",
    "        # v_angle = np.arctan2(v[1], v[0])\n",
    "\n",
    "        # wind = obs['wind']\n",
    "        # wind_angle = np.arctan2(wind[1], wind[0])\n",
    "\n",
    "        # obs = {\n",
    "        #     **super().observation(obs),\n",
    "        #     'v_angle': v_angle,\n",
    "        #     'v_norm': v_norm,\n",
    "        #     'theta_boat': obs['theta_boat'][2],  # Z axis\n",
    "        #     'dt_theta_boat': obs['dt_theta_boat'][2],  # Z axis\n",
    "        #     'theta_rudder': obs['theta_rudder'][0],\n",
    "        #     'dt_theta_rudder': obs['dt_theta_rudder'][0],\n",
    "        #     'wind_angle': wind_angle,\n",
    "        #     'wind_norm': wind_norm,\n",
    "        # }\n",
    "        print(self.keys_to_log)\n",
    "\n",
    "        log_obs = {k: v for k, v in obs.items() if k in self.keys_to_log}\n",
    "        for k, v in list(log_obs.items()):\n",
    "            self.cum_sum[k] += v\n",
    "            log_obs[f'cum_{k}'] = self.cum_sum[k]\n",
    "        # log(log_obs, prefix='obs')\n",
    "\n",
    "        return obs\n",
    "    \n",
    "Basic2DObs(None, None).observation({})"
   ]
  },
  {
   "cell_type": "code",
   "execution_count": 2,
   "metadata": {},
   "outputs": [
    {
     "data": {
      "text/plain": [
       "{'a'}"
      ]
     },
     "execution_count": 2,
     "metadata": {},
     "output_type": "execute_result"
    }
   ],
   "source": [
    "class A:\n",
    "    @property\n",
    "    def a(self):\n",
    "        return set(['a'])\n",
    "    \n",
    "class AA(A):\n",
    "    @property\n",
    "    def a(self):\n",
    "        return super().a | set([])\n",
    "    \n",
    "AA().a"
   ]
  }
 ],
 "metadata": {
  "kernelspec": {
   "display_name": "sailboat-drl",
   "language": "python",
   "name": "python3"
  },
  "language_info": {
   "codemirror_mode": {
    "name": "ipython",
    "version": 3
   },
   "file_extension": ".py",
   "mimetype": "text/x-python",
   "name": "python",
   "nbconvert_exporter": "python",
   "pygments_lexer": "ipython3",
   "version": "3.10.10"
  },
  "orig_nbformat": 4
 },
 "nbformat": 4,
 "nbformat_minor": 2
}
